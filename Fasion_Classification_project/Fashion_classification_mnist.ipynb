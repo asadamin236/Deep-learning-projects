{
 "cells": [
  {
   "cell_type": "markdown",
   "metadata": {
    "id": "CkCpuxkqhJv8"
   },
   "source": [
    "# Build First CNN Project"
   ]
  },
  {
   "cell_type": "markdown",
   "metadata": {},
   "source": [
    "Build first deep learning fashion classification project using keras and tensorflow \n",
    "and i classify multi class classification problem using CNN "
   ]
  },
  {
   "cell_type": "code",
   "execution_count": 1,
   "metadata": {
    "id": "1ngAQyFNhPbz"
   },
   "outputs": [],
   "source": [
    "import numpy as np\n",
    "import matplotlib.pyplot as plt\n",
    "import seaborn as sns\n",
    "import tensorflow as tf\n",
    "from tensorflow import keras"
   ]
  },
  {
   "cell_type": "markdown",
   "metadata": {},
   "source": [
    "## Download and run dataset using using keras library "
   ]
  },
  {
   "cell_type": "code",
   "execution_count": 2,
   "metadata": {
    "colab": {
     "base_uri": "https://localhost:8080/"
    },
    "id": "FtTmuOoMiLHX",
    "outputId": "00194401-7249-40f2-c020-fa1de2fc297d"
   },
   "outputs": [
    {
     "name": "stdout",
     "output_type": "stream",
     "text": [
      "Downloading data from https://storage.googleapis.com/tensorflow/tf-keras-datasets/train-labels-idx1-ubyte.gz\n",
      "32768/29515 [=================================] - 0s 0us/step\n",
      "40960/29515 [=========================================] - 0s 0us/step\n",
      "Downloading data from https://storage.googleapis.com/tensorflow/tf-keras-datasets/train-images-idx3-ubyte.gz\n",
      "26427392/26421880 [==============================] - 0s 0us/step\n",
      "26435584/26421880 [==============================] - 0s 0us/step\n",
      "Downloading data from https://storage.googleapis.com/tensorflow/tf-keras-datasets/t10k-labels-idx1-ubyte.gz\n",
      "16384/5148 [===============================================================================================] - 0s 0us/step\n",
      "Downloading data from https://storage.googleapis.com/tensorflow/tf-keras-datasets/t10k-images-idx3-ubyte.gz\n",
      "4423680/4422102 [==============================] - 0s 0us/step\n",
      "4431872/4422102 [==============================] - 0s 0us/step\n"
     ]
    }
   ],
   "source": [
    "(X_train, y_train), (X_test, y_test) = keras.datasets.fashion_mnist.load_data()"
   ]
  },
  {
   "cell_type": "markdown",
   "metadata": {},
   "source": [
    "## Check shape of the dataset"
   ]
  },
  {
   "cell_type": "code",
   "execution_count": 3,
   "metadata": {
    "colab": {
     "base_uri": "https://localhost:8080/"
    },
    "id": "-zEeJs-3jNRg",
    "outputId": "02623efe-a788-43fc-af12-509cc26fc750"
   },
   "outputs": [
    {
     "data": {
      "text/plain": [
       "((60000, 28, 28), (60000,))"
      ]
     },
     "execution_count": 3,
     "metadata": {},
     "output_type": "execute_result"
    }
   ],
   "source": [
    "X_train.shape, y_train.shape"
   ]
  },
  {
   "cell_type": "code",
   "execution_count": 4,
   "metadata": {
    "colab": {
     "base_uri": "https://localhost:8080/"
    },
    "id": "fM4Zru2Vjl-u",
    "outputId": "7a3d1b7f-66e5-4e4a-e20a-764bfa9115df"
   },
   "outputs": [
    {
     "data": {
      "text/plain": [
       "((10000, 28, 28), (10000,))"
      ]
     },
     "execution_count": 4,
     "metadata": {},
     "output_type": "execute_result"
    }
   ],
   "source": [
    "X_test.shape, y_test.shape"
   ]
  },
  {
   "cell_type": "markdown",
   "metadata": {},
   "source": [
    "## Check train data(images) in the form of numerical values"
   ]
  },
  {
   "cell_type": "code",
   "execution_count": 5,
   "metadata": {
    "colab": {
     "base_uri": "https://localhost:8080/"
    },
    "id": "OMkascsLi1kX",
    "outputId": "b5b2a74b-23cd-425e-898e-02f79983891f"
   },
   "outputs": [
    {
     "data": {
      "text/plain": [
       "array([[[0, 0, 0, ..., 0, 0, 0],\n",
       "        [0, 0, 0, ..., 0, 0, 0],\n",
       "        [0, 0, 0, ..., 0, 0, 0],\n",
       "        ...,\n",
       "        [0, 0, 0, ..., 0, 0, 0],\n",
       "        [0, 0, 0, ..., 0, 0, 0],\n",
       "        [0, 0, 0, ..., 0, 0, 0]],\n",
       "\n",
       "       [[0, 0, 0, ..., 0, 0, 0],\n",
       "        [0, 0, 0, ..., 0, 0, 0],\n",
       "        [0, 0, 0, ..., 0, 0, 0],\n",
       "        ...,\n",
       "        [0, 0, 0, ..., 0, 0, 0],\n",
       "        [0, 0, 0, ..., 0, 0, 0],\n",
       "        [0, 0, 0, ..., 0, 0, 0]],\n",
       "\n",
       "       [[0, 0, 0, ..., 0, 0, 0],\n",
       "        [0, 0, 0, ..., 0, 0, 0],\n",
       "        [0, 0, 0, ..., 0, 0, 0],\n",
       "        ...,\n",
       "        [0, 0, 0, ..., 0, 0, 0],\n",
       "        [0, 0, 0, ..., 0, 0, 0],\n",
       "        [0, 0, 0, ..., 0, 0, 0]],\n",
       "\n",
       "       ...,\n",
       "\n",
       "       [[0, 0, 0, ..., 0, 0, 0],\n",
       "        [0, 0, 0, ..., 0, 0, 0],\n",
       "        [0, 0, 0, ..., 0, 0, 0],\n",
       "        ...,\n",
       "        [0, 0, 0, ..., 0, 0, 0],\n",
       "        [0, 0, 0, ..., 0, 0, 0],\n",
       "        [0, 0, 0, ..., 0, 0, 0]],\n",
       "\n",
       "       [[0, 0, 0, ..., 0, 0, 0],\n",
       "        [0, 0, 0, ..., 0, 0, 0],\n",
       "        [0, 0, 0, ..., 0, 0, 0],\n",
       "        ...,\n",
       "        [0, 0, 0, ..., 0, 0, 0],\n",
       "        [0, 0, 0, ..., 0, 0, 0],\n",
       "        [0, 0, 0, ..., 0, 0, 0]],\n",
       "\n",
       "       [[0, 0, 0, ..., 0, 0, 0],\n",
       "        [0, 0, 0, ..., 0, 0, 0],\n",
       "        [0, 0, 0, ..., 0, 0, 0],\n",
       "        ...,\n",
       "        [0, 0, 0, ..., 0, 0, 0],\n",
       "        [0, 0, 0, ..., 0, 0, 0],\n",
       "        [0, 0, 0, ..., 0, 0, 0]]], dtype=uint8)"
      ]
     },
     "execution_count": 5,
     "metadata": {},
     "output_type": "execute_result"
    }
   ],
   "source": [
    "X_train"
   ]
  },
  {
   "cell_type": "code",
   "execution_count": 6,
   "metadata": {
    "colab": {
     "base_uri": "https://localhost:8080/"
    },
    "id": "4RGWhE1Xi6Z9",
    "outputId": "c5b817cd-42bc-465d-fbd6-9e96223563d3"
   },
   "outputs": [
    {
     "data": {
      "text/plain": [
       "array([[  0,   0,   0,   0,   0,   0,   0,   0,   0,   0,   0,   0,   0,\n",
       "          0,   0,   0,   0,   0,   0,   0,   0,   0,   0,   0,   0,   0,\n",
       "          0,   0],\n",
       "       [  0,   0,   0,   0,   0,   0,   0,   0,   0,   0,   0,   0,   0,\n",
       "          0,   0,   0,   0,   0,   0,   0,   0,   0,   0,   0,   0,   0,\n",
       "          0,   0],\n",
       "       [  0,   0,   0,   0,   0,   0,   0,   0,   0,   0,   0,   0,   0,\n",
       "          0,   0,   0,   0,   0,   0,   0,   0,   0,   0,   0,   0,   0,\n",
       "          0,   0],\n",
       "       [  0,   0,   0,   0,   0,   0,   0,   0,   0,   0,   0,   0,   1,\n",
       "          0,   0,  13,  73,   0,   0,   1,   4,   0,   0,   0,   0,   1,\n",
       "          1,   0],\n",
       "       [  0,   0,   0,   0,   0,   0,   0,   0,   0,   0,   0,   0,   3,\n",
       "          0,  36, 136, 127,  62,  54,   0,   0,   0,   1,   3,   4,   0,\n",
       "          0,   3],\n",
       "       [  0,   0,   0,   0,   0,   0,   0,   0,   0,   0,   0,   0,   6,\n",
       "          0, 102, 204, 176, 134, 144, 123,  23,   0,   0,   0,   0,  12,\n",
       "         10,   0],\n",
       "       [  0,   0,   0,   0,   0,   0,   0,   0,   0,   0,   0,   0,   0,\n",
       "          0, 155, 236, 207, 178, 107, 156, 161, 109,  64,  23,  77, 130,\n",
       "         72,  15],\n",
       "       [  0,   0,   0,   0,   0,   0,   0,   0,   0,   0,   0,   1,   0,\n",
       "         69, 207, 223, 218, 216, 216, 163, 127, 121, 122, 146, 141,  88,\n",
       "        172,  66],\n",
       "       [  0,   0,   0,   0,   0,   0,   0,   0,   0,   1,   1,   1,   0,\n",
       "        200, 232, 232, 233, 229, 223, 223, 215, 213, 164, 127, 123, 196,\n",
       "        229,   0],\n",
       "       [  0,   0,   0,   0,   0,   0,   0,   0,   0,   0,   0,   0,   0,\n",
       "        183, 225, 216, 223, 228, 235, 227, 224, 222, 224, 221, 223, 245,\n",
       "        173,   0],\n",
       "       [  0,   0,   0,   0,   0,   0,   0,   0,   0,   0,   0,   0,   0,\n",
       "        193, 228, 218, 213, 198, 180, 212, 210, 211, 213, 223, 220, 243,\n",
       "        202,   0],\n",
       "       [  0,   0,   0,   0,   0,   0,   0,   0,   0,   1,   3,   0,  12,\n",
       "        219, 220, 212, 218, 192, 169, 227, 208, 218, 224, 212, 226, 197,\n",
       "        209,  52],\n",
       "       [  0,   0,   0,   0,   0,   0,   0,   0,   0,   0,   6,   0,  99,\n",
       "        244, 222, 220, 218, 203, 198, 221, 215, 213, 222, 220, 245, 119,\n",
       "        167,  56],\n",
       "       [  0,   0,   0,   0,   0,   0,   0,   0,   0,   4,   0,   0,  55,\n",
       "        236, 228, 230, 228, 240, 232, 213, 218, 223, 234, 217, 217, 209,\n",
       "         92,   0],\n",
       "       [  0,   0,   1,   4,   6,   7,   2,   0,   0,   0,   0,   0, 237,\n",
       "        226, 217, 223, 222, 219, 222, 221, 216, 223, 229, 215, 218, 255,\n",
       "         77,   0],\n",
       "       [  0,   3,   0,   0,   0,   0,   0,   0,   0,  62, 145, 204, 228,\n",
       "        207, 213, 221, 218, 208, 211, 218, 224, 223, 219, 215, 224, 244,\n",
       "        159,   0],\n",
       "       [  0,   0,   0,   0,  18,  44,  82, 107, 189, 228, 220, 222, 217,\n",
       "        226, 200, 205, 211, 230, 224, 234, 176, 188, 250, 248, 233, 238,\n",
       "        215,   0],\n",
       "       [  0,  57, 187, 208, 224, 221, 224, 208, 204, 214, 208, 209, 200,\n",
       "        159, 245, 193, 206, 223, 255, 255, 221, 234, 221, 211, 220, 232,\n",
       "        246,   0],\n",
       "       [  3, 202, 228, 224, 221, 211, 211, 214, 205, 205, 205, 220, 240,\n",
       "         80, 150, 255, 229, 221, 188, 154, 191, 210, 204, 209, 222, 228,\n",
       "        225,   0],\n",
       "       [ 98, 233, 198, 210, 222, 229, 229, 234, 249, 220, 194, 215, 217,\n",
       "        241,  65,  73, 106, 117, 168, 219, 221, 215, 217, 223, 223, 224,\n",
       "        229,  29],\n",
       "       [ 75, 204, 212, 204, 193, 205, 211, 225, 216, 185, 197, 206, 198,\n",
       "        213, 240, 195, 227, 245, 239, 223, 218, 212, 209, 222, 220, 221,\n",
       "        230,  67],\n",
       "       [ 48, 203, 183, 194, 213, 197, 185, 190, 194, 192, 202, 214, 219,\n",
       "        221, 220, 236, 225, 216, 199, 206, 186, 181, 177, 172, 181, 205,\n",
       "        206, 115],\n",
       "       [  0, 122, 219, 193, 179, 171, 183, 196, 204, 210, 213, 207, 211,\n",
       "        210, 200, 196, 194, 191, 195, 191, 198, 192, 176, 156, 167, 177,\n",
       "        210,  92],\n",
       "       [  0,   0,  74, 189, 212, 191, 175, 172, 175, 181, 185, 188, 189,\n",
       "        188, 193, 198, 204, 209, 210, 210, 211, 188, 188, 194, 192, 216,\n",
       "        170,   0],\n",
       "       [  2,   0,   0,   0,  66, 200, 222, 237, 239, 242, 246, 243, 244,\n",
       "        221, 220, 193, 191, 179, 182, 182, 181, 176, 166, 168,  99,  58,\n",
       "          0,   0],\n",
       "       [  0,   0,   0,   0,   0,   0,   0,  40,  61,  44,  72,  41,  35,\n",
       "          0,   0,   0,   0,   0,   0,   0,   0,   0,   0,   0,   0,   0,\n",
       "          0,   0],\n",
       "       [  0,   0,   0,   0,   0,   0,   0,   0,   0,   0,   0,   0,   0,\n",
       "          0,   0,   0,   0,   0,   0,   0,   0,   0,   0,   0,   0,   0,\n",
       "          0,   0],\n",
       "       [  0,   0,   0,   0,   0,   0,   0,   0,   0,   0,   0,   0,   0,\n",
       "          0,   0,   0,   0,   0,   0,   0,   0,   0,   0,   0,   0,   0,\n",
       "          0,   0]], dtype=uint8)"
      ]
     },
     "execution_count": 6,
     "metadata": {},
     "output_type": "execute_result"
    }
   ],
   "source": [
    "X_train[0]"
   ]
  },
  {
   "cell_type": "markdown",
   "metadata": {},
   "source": [
    "## Check image in the form of label"
   ]
  },
  {
   "cell_type": "code",
   "execution_count": 7,
   "metadata": {
    "colab": {
     "base_uri": "https://localhost:8080/"
    },
    "id": "8JRHHNd8kHuI",
    "outputId": "dc2fd12e-516d-4d58-eb58-9f941961c1b5"
   },
   "outputs": [
    {
     "data": {
      "text/plain": [
       "9"
      ]
     },
     "execution_count": 7,
     "metadata": {},
     "output_type": "execute_result"
    }
   ],
   "source": [
    "y_train[0]"
   ]
  },
  {
   "cell_type": "markdown",
   "metadata": {},
   "source": [
    "## Check image on o index"
   ]
  },
  {
   "cell_type": "code",
   "execution_count": 8,
   "metadata": {
    "colab": {
     "base_uri": "https://localhost:8080/",
     "height": 282
    },
    "id": "qFB63qPalI-Q",
    "outputId": "2ff981e6-4549-41fb-a1f2-c504b60c3060"
   },
   "outputs": [
    {
     "data": {
      "text/plain": [
       "<matplotlib.image.AxesImage at 0x7fdc17dec3d0>"
      ]
     },
     "execution_count": 8,
     "metadata": {},
     "output_type": "execute_result"
    },
    {
     "data": {
      "image/png": "[encoded data removed]",
      "text/plain": [
       "<Figure size 432x288 with 1 Axes>"
      ]
     },
     "metadata": {
      "needs_background": "light"
     },
     "output_type": "display_data"
    }
   ],
   "source": [
    "plt.imshow(X_train[0])"
   ]
  },
  {
   "cell_type": "code",
   "execution_count": 9,
   "metadata": {
    "colab": {
     "base_uri": "https://localhost:8080/",
     "height": 282
    },
    "id": "9wKtfUzclQSc",
    "outputId": "31e19621-6831-4a5a-9343-95211dc043a2"
   },
   "outputs": [
    {
     "data": {
      "text/plain": [
       "<matplotlib.image.AxesImage at 0x7fdc178cb3d0>"
      ]
     },
     "execution_count": 9,
     "metadata": {},
     "output_type": "execute_result"
    },
    {
     "data": {
      "image/png": "[encoded data removed]",
      "text/plain": [
       "<Figure size 432x288 with 1 Axes>"
      ]
     },
     "metadata": {
      "needs_background": "light"
     },
     "output_type": "display_data"
    }
   ],
   "source": [
    "plt.imshow(X_train[10])"
   ]
  },
  {
   "cell_type": "markdown",
   "metadata": {},
   "source": [
    "## All the category of images write in the form of labels"
   ]
  },
  {
   "cell_type": "code",
   "execution_count": 10,
   "metadata": {
    "colab": {
     "base_uri": "https://localhost:8080/",
     "height": 53
    },
    "id": "dprsn76DnPvv",
    "outputId": "451f77ca-e5aa-48a1-e6b8-ea12cd9bc899"
   },
   "outputs": [
    {
     "data": {
      "application/vnd.google.colaboratory.intrinsic+json": {
       "type": "string"
      },
      "text/plain": [
       "'\\n0 => T-shirt/top \\n1 => Trouser \\n2 => Pullover \\n3 => Dress \\n4 => Coat \\n5 => Sandal \\n6 => Shirt \\n7 => Sneaker \\n8 => Bag \\n9 => Ankle boot '"
      ]
     },
     "execution_count": 10,
     "metadata": {},
     "output_type": "execute_result"
    }
   ],
   "source": [
    "class_labels = [\"T-shirt/top\",\"Trouser\",\"Pullover\",\"Dress\",\"Coat\",\"Sandal\",\"Shirt\",\"Sneaker\",\"Bag\",\"Ankle boot\"]\n",
    "'''\n",
    "0 => T-shirt/top \n",
    "1 => Trouser \n",
    "2 => Pullover \n",
    "3 => Dress \n",
    "4 => Coat \n",
    "5 => Sandal \n",
    "6 => Shirt \n",
    "7 => Sneaker \n",
    "8 => Bag \n",
    "9 => Ankle boot '''"
   ]
  },
  {
   "cell_type": "markdown",
   "metadata": {},
   "source": [
    "## Plot all the images and also show its number"
   ]
  },
  {
   "cell_type": "code",
   "execution_count": 11,
   "metadata": {
    "colab": {
     "base_uri": "https://localhost:8080/",
     "height": 917
    },
    "id": "1KoSGrPIlWp1",
    "outputId": "c8964940-0c15-4537-e871-0c65c23d4b1a"
   },
   "outputs": [
    {
     "data": {
      "image/png": "[encoded data removed]",
      "text/plain": [
       "<Figure size 1152x1152 with 25 Axes>"
      ]
     },
     "metadata": {
      "needs_background": "light"
     },
     "output_type": "display_data"
    }
   ],
   "source": [
    "plt.figure(figsize=(16, 16))\n",
    "\n",
    "j=1\n",
    "for i in np.random.randint(0, 1000, 25):\n",
    "  plt.subplot(5, 5, j); j+=1\n",
    "  plt.imshow(X_train[i], cmap='Blues')\n",
    "  plt.axis('off')\n",
    "  plt.title('{} / {}'.format(class_labels[y_train[i]], y_train[i]))"
   ]
  },
  {
   "cell_type": "markdown",
   "metadata": {},
   "source": [
    "## Check dimension of the images"
   ]
  },
  {
   "cell_type": "code",
   "execution_count": 12,
   "metadata": {
    "colab": {
     "base_uri": "https://localhost:8080/"
    },
    "id": "2tF8p2ElpHnm",
    "outputId": "08f840b0-c0e2-4921-9d7a-66df1fa44315"
   },
   "outputs": [
    {
     "data": {
      "text/plain": [
       "3"
      ]
     },
     "execution_count": 12,
     "metadata": {},
     "output_type": "execute_result"
    }
   ],
   "source": [
    "X_train.ndim"
   ]
  },
  {
   "cell_type": "markdown",
   "metadata": {},
   "source": [
    "## Convert the images from 3 to 4 dimension"
   ]
  },
  {
   "cell_type": "code",
   "execution_count": 13,
   "metadata": {
    "id": "vXBnfOxzqQPm"
   },
   "outputs": [],
   "source": [
    "X_train = np.expand_dims(X_train, -1)\n",
    "X_test = np.expand_dims(X_test, -1)"
   ]
  },
  {
   "cell_type": "markdown",
   "metadata": {},
   "source": [
    "## Check dimension again"
   ]
  },
  {
   "cell_type": "code",
   "execution_count": 14,
   "metadata": {
    "colab": {
     "base_uri": "https://localhost:8080/"
    },
    "id": "j6PZlodsqQcJ",
    "outputId": "8ce6b2fe-653c-465d-984b-492040aa0e9a"
   },
   "outputs": [
    {
     "data": {
      "text/plain": [
       "4"
      ]
     },
     "execution_count": 14,
     "metadata": {},
     "output_type": "execute_result"
    }
   ],
   "source": [
    "X_train.ndim"
   ]
  },
  {
   "cell_type": "markdown",
   "metadata": {},
   "source": [
    "## Check shape of the data again"
   ]
  },
  {
   "cell_type": "code",
   "execution_count": 15,
   "metadata": {
    "colab": {
     "base_uri": "https://localhost:8080/"
    },
    "id": "7Lafukp1qQk8",
    "outputId": "9cae39c2-0899-44a8-ded1-473ec365b31b"
   },
   "outputs": [
    {
     "data": {
      "text/plain": [
       "(60000, 28, 28, 1)"
      ]
     },
     "execution_count": 15,
     "metadata": {},
     "output_type": "execute_result"
    }
   ],
   "source": [
    "X_train.shape"
   ]
  },
  {
   "cell_type": "markdown",
   "metadata": {},
   "source": [
    "## Normalize the images data between 0 and 1 so divide by 255"
   ]
  },
  {
   "cell_type": "code",
   "execution_count": 16,
   "metadata": {
    "id": "DS5sgK3bqQwh"
   },
   "outputs": [],
   "source": [
    "X_train = X_train/255\n",
    "X_test = X_test/255"
   ]
  },
  {
   "cell_type": "code",
   "execution_count": 17,
   "metadata": {
    "colab": {
     "base_uri": "https://localhost:8080/"
    },
    "id": "r0S_C0qsqRBo",
    "outputId": "e53b5859-88fe-491a-8b33-853224a3230f"
   },
   "outputs": [
    {
     "data": {
      "text/plain": [
       "array([[[0.        ],\n",
       "        [0.        ],\n",
       "        [0.        ],\n",
       "        [0.        ],\n",
       "        [0.        ],\n",
       "        [0.00392157],\n",
       "        [0.        ],\n",
       "        [0.        ],\n",
       "        [0.        ],\n",
       "        [0.        ],\n",
       "        [0.16078431],\n",
       "        [0.7372549 ],\n",
       "        [0.40392157],\n",
       "        [0.21176471],\n",
       "        [0.18823529],\n",
       "        [0.16862745],\n",
       "        [0.34117647],\n",
       "        [0.65882353],\n",
       "        [0.52156863],\n",
       "        [0.0627451 ],\n",
       "        [0.        ],\n",
       "        [0.        ],\n",
       "        [0.        ],\n",
       "        [0.        ],\n",
       "        [0.        ],\n",
       "        [0.        ],\n",
       "        [0.        ],\n",
       "        [0.        ]],\n",
       "\n",
       "       [[0.        ],\n",
       "        [0.        ],\n",
       "        [0.        ],\n",
       "        [0.00392157],\n",
       "        [0.        ],\n",
       "        [0.        ],\n",
       "        [0.        ],\n",
       "        [0.19215686],\n",
       "        [0.53333333],\n",
       "        [0.85882353],\n",
       "        [0.84705882],\n",
       "        [0.89411765],\n",
       "        [0.9254902 ],\n",
       "        [1.        ],\n",
       "        [1.        ],\n",
       "        [1.        ],\n",
       "        [1.        ],\n",
       "        [0.85098039],\n",
       "        [0.84313725],\n",
       "        [0.99607843],\n",
       "        [0.90588235],\n",
       "        [0.62745098],\n",
       "        [0.17647059],\n",
       "        [0.        ],\n",
       "        [0.        ],\n",
       "        [0.        ],\n",
       "        [0.        ],\n",
       "        [0.        ]],\n",
       "\n",
       "       [[0.        ],\n",
       "        [0.        ],\n",
       "        [0.        ],\n",
       "        [0.        ],\n",
       "        [0.        ],\n",
       "        [0.05490196],\n",
       "        [0.69019608],\n",
       "        [0.87058824],\n",
       "        [0.87843137],\n",
       "        [0.83137255],\n",
       "        [0.79607843],\n",
       "        [0.77647059],\n",
       "        [0.76862745],\n",
       "        [0.78431373],\n",
       "        [0.84313725],\n",
       "        [0.8       ],\n",
       "        [0.79215686],\n",
       "        [0.78823529],\n",
       "        [0.78823529],\n",
       "        [0.78823529],\n",
       "        [0.81960784],\n",
       "        [0.85490196],\n",
       "        [0.87843137],\n",
       "        [0.64313725],\n",
       "        [0.        ],\n",
       "        [0.        ],\n",
       "        [0.        ],\n",
       "        [0.        ]],\n",
       "\n",
       "       [[0.        ],\n",
       "        [0.        ],\n",
       "        [0.        ],\n",
       "        [0.        ],\n",
       "        [0.        ],\n",
       "        [0.7372549 ],\n",
       "        [0.85882353],\n",
       "        [0.78431373],\n",
       "        [0.77647059],\n",
       "        [0.79215686],\n",
       "        [0.77647059],\n",
       "        [0.78039216],\n",
       "        [0.78039216],\n",
       "        [0.78823529],\n",
       "        [0.76862745],\n",
       "        [0.77647059],\n",
       "        [0.77647059],\n",
       "        [0.78431373],\n",
       "        [0.78431373],\n",
       "        [0.78431373],\n",
       "        [0.78431373],\n",
       "        [0.78823529],\n",
       "        [0.78431373],\n",
       "        [0.88235294],\n",
       "        [0.16078431],\n",
       "        [0.        ],\n",
       "        [0.        ],\n",
       "        [0.        ]],\n",
       "\n",
       "       [[0.        ],\n",
       "        [0.        ],\n",
       "        [0.        ],\n",
       "        [0.        ],\n",
       "        [0.2       ],\n",
       "        [0.85882353],\n",
       "        [0.78039216],\n",
       "        [0.79607843],\n",
       "        [0.79607843],\n",
       "        [0.83137255],\n",
       "        [0.93333333],\n",
       "        [0.97254902],\n",
       "        [0.98039216],\n",
       "        [0.96078431],\n",
       "        [0.97647059],\n",
       "        [0.96470588],\n",
       "        [0.96862745],\n",
       "        [0.98823529],\n",
       "        [0.97254902],\n",
       "        [0.92156863],\n",
       "        [0.81176471],\n",
       "        [0.79607843],\n",
       "        [0.79607843],\n",
       "        [0.87058824],\n",
       "        [0.54901961],\n",
       "        [0.        ],\n",
       "        [0.        ],\n",
       "        [0.        ]],\n",
       "\n",
       "       [[0.        ],\n",
       "        [0.        ],\n",
       "        [0.        ],\n",
       "        [0.        ],\n",
       "        [0.45490196],\n",
       "        [0.88627451],\n",
       "        [0.80784314],\n",
       "        [0.8       ],\n",
       "        [0.81176471],\n",
       "        [0.8       ],\n",
       "        [0.39607843],\n",
       "        [0.29411765],\n",
       "        [0.18431373],\n",
       "        [0.28627451],\n",
       "        [0.18823529],\n",
       "        [0.19607843],\n",
       "        [0.17647059],\n",
       "        [0.2       ],\n",
       "        [0.24705882],\n",
       "        [0.44313725],\n",
       "        [0.87058824],\n",
       "        [0.79215686],\n",
       "        [0.80784314],\n",
       "        [0.8627451 ],\n",
       "        [0.87843137],\n",
       "        [0.        ],\n",
       "        [0.        ],\n",
       "        [0.        ]],\n",
       "\n",
       "       [[0.        ],\n",
       "        [0.        ],\n",
       "        [0.        ],\n",
       "        [0.        ],\n",
       "        [0.78431373],\n",
       "        [0.87058824],\n",
       "        [0.81960784],\n",
       "        [0.79607843],\n",
       "        [0.84313725],\n",
       "        [0.78431373],\n",
       "        [0.        ],\n",
       "        [0.2745098 ],\n",
       "        [0.38431373],\n",
       "        [0.        ],\n",
       "        [0.40392157],\n",
       "        [0.23137255],\n",
       "        [0.26666667],\n",
       "        [0.27843137],\n",
       "        [0.19215686],\n",
       "        [0.        ],\n",
       "        [0.85882353],\n",
       "        [0.80784314],\n",
       "        [0.83921569],\n",
       "        [0.82352941],\n",
       "        [0.98039216],\n",
       "        [0.14901961],\n",
       "        [0.        ],\n",
       "        [0.        ]],\n",
       "\n",
       "       [[0.        ],\n",
       "        [0.        ],\n",
       "        [0.        ],\n",
       "        [0.        ],\n",
       "        [0.96862745],\n",
       "        [0.85490196],\n",
       "        [0.83137255],\n",
       "        [0.82352941],\n",
       "        [0.84313725],\n",
       "        [0.83921569],\n",
       "        [0.        ],\n",
       "        [0.99607843],\n",
       "        [0.95294118],\n",
       "        [0.54509804],\n",
       "        [1.        ],\n",
       "        [0.68235294],\n",
       "        [0.98431373],\n",
       "        [1.        ],\n",
       "        [0.80392157],\n",
       "        [0.        ],\n",
       "        [0.84313725],\n",
       "        [0.85098039],\n",
       "        [0.83921569],\n",
       "        [0.81568627],\n",
       "        [0.8627451 ],\n",
       "        [0.37254902],\n",
       "        [0.        ],\n",
       "        [0.        ]],\n",
       "\n",
       "       [[0.        ],\n",
       "        [0.        ],\n",
       "        [0.        ],\n",
       "        [0.17647059],\n",
       "        [0.88627451],\n",
       "        [0.83921569],\n",
       "        [0.83921569],\n",
       "        [0.84313725],\n",
       "        [0.87843137],\n",
       "        [0.80392157],\n",
       "        [0.        ],\n",
       "        [0.16470588],\n",
       "        [0.1372549 ],\n",
       "        [0.23529412],\n",
       "        [0.0627451 ],\n",
       "        [0.06666667],\n",
       "        [0.04705882],\n",
       "        [0.05098039],\n",
       "        [0.2745098 ],\n",
       "        [0.        ],\n",
       "        [0.74117647],\n",
       "        [0.84705882],\n",
       "        [0.83137255],\n",
       "        [0.80784314],\n",
       "        [0.83137255],\n",
       "        [0.61176471],\n",
       "        [0.        ],\n",
       "        [0.        ]],\n",
       "\n",
       "       [[0.        ],\n",
       "        [0.        ],\n",
       "        [0.        ],\n",
       "        [0.64313725],\n",
       "        [0.92156863],\n",
       "        [0.83921569],\n",
       "        [0.82745098],\n",
       "        [0.8627451 ],\n",
       "        [0.84705882],\n",
       "        [0.78823529],\n",
       "        [0.20392157],\n",
       "        [0.27843137],\n",
       "        [0.34901961],\n",
       "        [0.36862745],\n",
       "        [0.3254902 ],\n",
       "        [0.30588235],\n",
       "        [0.2745098 ],\n",
       "        [0.29803922],\n",
       "        [0.36078431],\n",
       "        [0.34117647],\n",
       "        [0.80784314],\n",
       "        [0.81176471],\n",
       "        [0.87058824],\n",
       "        [0.83529412],\n",
       "        [0.85882353],\n",
       "        [0.81568627],\n",
       "        [0.        ],\n",
       "        [0.        ]],\n",
       "\n",
       "       [[0.        ],\n",
       "        [0.        ],\n",
       "        [0.        ],\n",
       "        [0.41568627],\n",
       "        [0.73333333],\n",
       "        [0.8745098 ],\n",
       "        [0.92941176],\n",
       "        [0.97254902],\n",
       "        [0.82745098],\n",
       "        [0.77647059],\n",
       "        [0.98823529],\n",
       "        [0.98039216],\n",
       "        [0.97254902],\n",
       "        [0.96078431],\n",
       "        [0.97254902],\n",
       "        [0.98823529],\n",
       "        [0.99215686],\n",
       "        [0.98039216],\n",
       "        [0.98823529],\n",
       "        [0.9372549 ],\n",
       "        [0.78823529],\n",
       "        [0.83137255],\n",
       "        [0.88235294],\n",
       "        [0.84313725],\n",
       "        [0.75686275],\n",
       "        [0.44313725],\n",
       "        [0.        ],\n",
       "        [0.        ]],\n",
       "\n",
       "       [[0.        ],\n",
       "        [0.        ],\n",
       "        [0.        ],\n",
       "        [0.        ],\n",
       "        [0.        ],\n",
       "        [0.06666667],\n",
       "        [0.21176471],\n",
       "        [0.62352941],\n",
       "        [0.87058824],\n",
       "        [0.75686275],\n",
       "        [0.81568627],\n",
       "        [0.75294118],\n",
       "        [0.77254902],\n",
       "        [0.78431373],\n",
       "        [0.78431373],\n",
       "        [0.78431373],\n",
       "        [0.78431373],\n",
       "        [0.78823529],\n",
       "        [0.79607843],\n",
       "        [0.76470588],\n",
       "        [0.82352941],\n",
       "        [0.64705882],\n",
       "        [0.        ],\n",
       "        [0.        ],\n",
       "        [0.        ],\n",
       "        [0.        ],\n",
       "        [0.        ],\n",
       "        [0.        ]],\n",
       "\n",
       "       [[0.        ],\n",
       "        [0.        ],\n",
       "        [0.        ],\n",
       "        [0.        ],\n",
       "        [0.        ],\n",
       "        [0.        ],\n",
       "        [0.        ],\n",
       "        [0.18431373],\n",
       "        [0.88235294],\n",
       "        [0.75294118],\n",
       "        [0.83921569],\n",
       "        [0.79607843],\n",
       "        [0.80784314],\n",
       "        [0.8       ],\n",
       "        [0.8       ],\n",
       "        [0.80392157],\n",
       "        [0.80784314],\n",
       "        [0.8       ],\n",
       "        [0.83137255],\n",
       "        [0.77254902],\n",
       "        [0.85490196],\n",
       "        [0.41960784],\n",
       "        [0.        ],\n",
       "        [0.        ],\n",
       "        [0.        ],\n",
       "        [0.        ],\n",
       "        [0.        ],\n",
       "        [0.        ]],\n",
       "\n",
       "       [[0.        ],\n",
       "        [0.        ],\n",
       "        [0.        ],\n",
       "        [0.        ],\n",
       "        [0.00392157],\n",
       "        [0.02352941],\n",
       "        [0.        ],\n",
       "        [0.18039216],\n",
       "        [0.83137255],\n",
       "        [0.76470588],\n",
       "        [0.83137255],\n",
       "        [0.79215686],\n",
       "        [0.80784314],\n",
       "        [0.80392157],\n",
       "        [0.8       ],\n",
       "        [0.80392157],\n",
       "        [0.80784314],\n",
       "        [0.8       ],\n",
       "        [0.83137255],\n",
       "        [0.78431373],\n",
       "        [0.85490196],\n",
       "        [0.35686275],\n",
       "        [0.        ],\n",
       "        [0.01176471],\n",
       "        [0.00392157],\n",
       "        [0.        ],\n",
       "        [0.        ],\n",
       "        [0.        ]],\n",
       "\n",
       "       [[0.        ],\n",
       "        [0.        ],\n",
       "        [0.        ],\n",
       "        [0.        ],\n",
       "        [0.        ],\n",
       "        [0.00392157],\n",
       "        [0.        ],\n",
       "        [0.04313725],\n",
       "        [0.77254902],\n",
       "        [0.78039216],\n",
       "        [0.80392157],\n",
       "        [0.79215686],\n",
       "        [0.80392157],\n",
       "        [0.80784314],\n",
       "        [0.8       ],\n",
       "        [0.80392157],\n",
       "        [0.81176471],\n",
       "        [0.8       ],\n",
       "        [0.80392157],\n",
       "        [0.80392157],\n",
       "        [0.85490196],\n",
       "        [0.30196078],\n",
       "        [0.        ],\n",
       "        [0.01960784],\n",
       "        [0.        ],\n",
       "        [0.        ],\n",
       "        [0.        ],\n",
       "        [0.        ]],\n",
       "\n",
       "       [[0.        ],\n",
       "        [0.        ],\n",
       "        [0.        ],\n",
       "        [0.        ],\n",
       "        [0.        ],\n",
       "        [0.01176471],\n",
       "        [0.        ],\n",
       "        [0.00784314],\n",
       "        [0.74901961],\n",
       "        [0.77647059],\n",
       "        [0.78823529],\n",
       "        [0.80392157],\n",
       "        [0.80784314],\n",
       "        [0.80392157],\n",
       "        [0.80392157],\n",
       "        [0.80784314],\n",
       "        [0.81960784],\n",
       "        [0.80784314],\n",
       "        [0.78039216],\n",
       "        [0.81960784],\n",
       "        [0.85882353],\n",
       "        [0.29019608],\n",
       "        [0.        ],\n",
       "        [0.01960784],\n",
       "        [0.        ],\n",
       "        [0.        ],\n",
       "        [0.        ],\n",
       "        [0.        ]],\n",
       "\n",
       "       [[0.        ],\n",
       "        [0.        ],\n",
       "        [0.        ],\n",
       "        [0.        ],\n",
       "        [0.        ],\n",
       "        [0.00784314],\n",
       "        [0.        ],\n",
       "        [0.        ],\n",
       "        [0.7372549 ],\n",
       "        [0.77254902],\n",
       "        [0.78431373],\n",
       "        [0.81176471],\n",
       "        [0.81176471],\n",
       "        [0.8       ],\n",
       "        [0.81176471],\n",
       "        [0.81176471],\n",
       "        [0.82352941],\n",
       "        [0.81568627],\n",
       "        [0.77647059],\n",
       "        [0.81176471],\n",
       "        [0.86666667],\n",
       "        [0.28235294],\n",
       "        [0.        ],\n",
       "        [0.01568627],\n",
       "        [0.        ],\n",
       "        [0.        ],\n",
       "        [0.        ],\n",
       "        [0.        ]],\n",
       "\n",
       "       [[0.        ],\n",
       "        [0.        ],\n",
       "        [0.        ],\n",
       "        [0.        ],\n",
       "        [0.        ],\n",
       "        [0.00784314],\n",
       "        [0.        ],\n",
       "        [0.        ],\n",
       "        [0.84313725],\n",
       "        [0.77647059],\n",
       "        [0.79607843],\n",
       "        [0.80784314],\n",
       "        [0.81568627],\n",
       "        [0.80392157],\n",
       "        [0.81176471],\n",
       "        [0.81176471],\n",
       "        [0.82352941],\n",
       "        [0.81568627],\n",
       "        [0.78431373],\n",
       "        [0.79215686],\n",
       "        [0.87058824],\n",
       "        [0.29411765],\n",
       "        [0.        ],\n",
       "        [0.01568627],\n",
       "        [0.        ],\n",
       "        [0.        ],\n",
       "        [0.        ],\n",
       "        [0.        ]],\n",
       "\n",
       "       [[0.        ],\n",
       "        [0.        ],\n",
       "        [0.        ],\n",
       "        [0.        ],\n",
       "        [0.        ],\n",
       "        [0.00392157],\n",
       "        [0.        ],\n",
       "        [0.        ],\n",
       "        [0.83137255],\n",
       "        [0.77647059],\n",
       "        [0.81960784],\n",
       "        [0.80784314],\n",
       "        [0.81960784],\n",
       "        [0.80784314],\n",
       "        [0.81568627],\n",
       "        [0.81176471],\n",
       "        [0.82745098],\n",
       "        [0.80784314],\n",
       "        [0.80392157],\n",
       "        [0.77647059],\n",
       "        [0.86666667],\n",
       "        [0.31372549],\n",
       "        [0.        ],\n",
       "        [0.01176471],\n",
       "        [0.        ],\n",
       "        [0.        ],\n",
       "        [0.        ],\n",
       "        [0.        ]],\n",
       "\n",
       "       [[0.        ],\n",
       "        [0.        ],\n",
       "        [0.        ],\n",
       "        [0.        ],\n",
       "        [0.        ],\n",
       "        [0.00392157],\n",
       "        [0.        ],\n",
       "        [0.        ],\n",
       "        [0.8       ],\n",
       "        [0.78823529],\n",
       "        [0.80392157],\n",
       "        [0.81568627],\n",
       "        [0.81176471],\n",
       "        [0.80392157],\n",
       "        [0.82745098],\n",
       "        [0.80392157],\n",
       "        [0.82352941],\n",
       "        [0.82352941],\n",
       "        [0.81960784],\n",
       "        [0.76470588],\n",
       "        [0.86666667],\n",
       "        [0.37647059],\n",
       "        [0.        ],\n",
       "        [0.01176471],\n",
       "        [0.        ],\n",
       "        [0.        ],\n",
       "        [0.        ],\n",
       "        [0.        ]],\n",
       "\n",
       "       [[0.        ],\n",
       "        [0.        ],\n",
       "        [0.        ],\n",
       "        [0.        ],\n",
       "        [0.        ],\n",
       "        [0.00392157],\n",
       "        [0.        ],\n",
       "        [0.        ],\n",
       "        [0.79215686],\n",
       "        [0.78823529],\n",
       "        [0.80392157],\n",
       "        [0.81960784],\n",
       "        [0.81176471],\n",
       "        [0.80392157],\n",
       "        [0.83529412],\n",
       "        [0.80784314],\n",
       "        [0.82352941],\n",
       "        [0.81960784],\n",
       "        [0.82352941],\n",
       "        [0.76078431],\n",
       "        [0.85098039],\n",
       "        [0.41176471],\n",
       "        [0.        ],\n",
       "        [0.00784314],\n",
       "        [0.        ],\n",
       "        [0.        ],\n",
       "        [0.        ],\n",
       "        [0.        ]],\n",
       "\n",
       "       [[0.        ],\n",
       "        [0.        ],\n",
       "        [0.        ],\n",
       "        [0.        ],\n",
       "        [0.        ],\n",
       "        [0.00392157],\n",
       "        [0.        ],\n",
       "        [0.        ],\n",
       "        [0.8       ],\n",
       "        [0.8       ],\n",
       "        [0.80392157],\n",
       "        [0.81568627],\n",
       "        [0.81176471],\n",
       "        [0.80392157],\n",
       "        [0.84313725],\n",
       "        [0.81176471],\n",
       "        [0.82352941],\n",
       "        [0.81568627],\n",
       "        [0.82745098],\n",
       "        [0.75686275],\n",
       "        [0.83529412],\n",
       "        [0.45098039],\n",
       "        [0.        ],\n",
       "        [0.00784314],\n",
       "        [0.        ],\n",
       "        [0.        ],\n",
       "        [0.        ],\n",
       "        [0.        ]],\n",
       "\n",
       "       [[0.        ],\n",
       "        [0.        ],\n",
       "        [0.        ],\n",
       "        [0.        ],\n",
       "        [0.        ],\n",
       "        [0.        ],\n",
       "        [0.        ],\n",
       "        [0.        ],\n",
       "        [0.8       ],\n",
       "        [0.81176471],\n",
       "        [0.81176471],\n",
       "        [0.81568627],\n",
       "        [0.80784314],\n",
       "        [0.80784314],\n",
       "        [0.84313725],\n",
       "        [0.82352941],\n",
       "        [0.82352941],\n",
       "        [0.81176471],\n",
       "        [0.83137255],\n",
       "        [0.76470588],\n",
       "        [0.82352941],\n",
       "        [0.4627451 ],\n",
       "        [0.        ],\n",
       "        [0.00784314],\n",
       "        [0.        ],\n",
       "        [0.        ],\n",
       "        [0.        ],\n",
       "        [0.        ]],\n",
       "\n",
       "       [[0.        ],\n",
       "        [0.        ],\n",
       "        [0.        ],\n",
       "        [0.        ],\n",
       "        [0.        ],\n",
       "        [0.00392157],\n",
       "        [0.        ],\n",
       "        [0.        ],\n",
       "        [0.77647059],\n",
       "        [0.81568627],\n",
       "        [0.81568627],\n",
       "        [0.81568627],\n",
       "        [0.8       ],\n",
       "        [0.81176471],\n",
       "        [0.83137255],\n",
       "        [0.83137255],\n",
       "        [0.82352941],\n",
       "        [0.81176471],\n",
       "        [0.82745098],\n",
       "        [0.76862745],\n",
       "        [0.81176471],\n",
       "        [0.4745098 ],\n",
       "        [0.        ],\n",
       "        [0.00392157],\n",
       "        [0.        ],\n",
       "        [0.        ],\n",
       "        [0.        ],\n",
       "        [0.        ]],\n",
       "\n",
       "       [[0.        ],\n",
       "        [0.        ],\n",
       "        [0.        ],\n",
       "        [0.        ],\n",
       "        [0.        ],\n",
       "        [0.00392157],\n",
       "        [0.        ],\n",
       "        [0.        ],\n",
       "        [0.77647059],\n",
       "        [0.82352941],\n",
       "        [0.81176471],\n",
       "        [0.81568627],\n",
       "        [0.80784314],\n",
       "        [0.81960784],\n",
       "        [0.83529412],\n",
       "        [0.83137255],\n",
       "        [0.82745098],\n",
       "        [0.81176471],\n",
       "        [0.82352941],\n",
       "        [0.77254902],\n",
       "        [0.81176471],\n",
       "        [0.48627451],\n",
       "        [0.        ],\n",
       "        [0.00392157],\n",
       "        [0.        ],\n",
       "        [0.        ],\n",
       "        [0.        ],\n",
       "        [0.        ]],\n",
       "\n",
       "       [[0.        ],\n",
       "        [0.        ],\n",
       "        [0.        ],\n",
       "        [0.        ],\n",
       "        [0.        ],\n",
       "        [0.        ],\n",
       "        [0.        ],\n",
       "        [0.        ],\n",
       "        [0.6745098 ],\n",
       "        [0.82352941],\n",
       "        [0.79607843],\n",
       "        [0.78823529],\n",
       "        [0.78039216],\n",
       "        [0.8       ],\n",
       "        [0.81176471],\n",
       "        [0.80392157],\n",
       "        [0.8       ],\n",
       "        [0.78823529],\n",
       "        [0.80392157],\n",
       "        [0.77254902],\n",
       "        [0.80784314],\n",
       "        [0.49803922],\n",
       "        [0.        ],\n",
       "        [0.        ],\n",
       "        [0.        ],\n",
       "        [0.        ],\n",
       "        [0.        ],\n",
       "        [0.        ]],\n",
       "\n",
       "       [[0.        ],\n",
       "        [0.        ],\n",
       "        [0.        ],\n",
       "        [0.        ],\n",
       "        [0.        ],\n",
       "        [0.        ],\n",
       "        [0.        ],\n",
       "        [0.        ],\n",
       "        [0.7372549 ],\n",
       "        [0.86666667],\n",
       "        [0.83921569],\n",
       "        [0.91764706],\n",
       "        [0.9254902 ],\n",
       "        [0.93333333],\n",
       "        [0.95686275],\n",
       "        [0.95686275],\n",
       "        [0.95686275],\n",
       "        [0.94117647],\n",
       "        [0.95294118],\n",
       "        [0.83921569],\n",
       "        [0.87843137],\n",
       "        [0.63529412],\n",
       "        [0.        ],\n",
       "        [0.00784314],\n",
       "        [0.        ],\n",
       "        [0.        ],\n",
       "        [0.        ],\n",
       "        [0.        ]],\n",
       "\n",
       "       [[0.        ],\n",
       "        [0.        ],\n",
       "        [0.        ],\n",
       "        [0.        ],\n",
       "        [0.        ],\n",
       "        [0.00392157],\n",
       "        [0.        ],\n",
       "        [0.        ],\n",
       "        [0.54509804],\n",
       "        [0.57254902],\n",
       "        [0.50980392],\n",
       "        [0.52941176],\n",
       "        [0.52941176],\n",
       "        [0.5372549 ],\n",
       "        [0.49019608],\n",
       "        [0.48627451],\n",
       "        [0.49019608],\n",
       "        [0.4745098 ],\n",
       "        [0.46666667],\n",
       "        [0.44705882],\n",
       "        [0.50980392],\n",
       "        [0.29803922],\n",
       "        [0.        ],\n",
       "        [0.        ],\n",
       "        [0.        ],\n",
       "        [0.        ],\n",
       "        [0.        ],\n",
       "        [0.        ]]])"
      ]
     },
     "execution_count": 17,
     "metadata": {},
     "output_type": "execute_result"
    }
   ],
   "source": [
    "X_train[1]"
   ]
  },
  {
   "cell_type": "markdown",
   "metadata": {
    "id": "yvQHwYdasL_s"
   },
   "source": [
    "## Train test split"
   ]
  },
  {
   "cell_type": "code",
   "execution_count": 18,
   "metadata": {
    "id": "GY82e0xcrXsw"
   },
   "outputs": [],
   "source": [
    "from sklearn.model_selection import train_test_split"
   ]
  },
  {
   "cell_type": "code",
   "execution_count": 19,
   "metadata": {
    "id": "MUpKt1JzrX-k"
   },
   "outputs": [],
   "source": [
    "X_train, X_val, y_train, y_val = train_test_split(X_train, y_train, test_size=0.2, random_state=2020)"
   ]
  },
  {
   "cell_type": "code",
   "execution_count": 20,
   "metadata": {
    "colab": {
     "base_uri": "https://localhost:8080/"
    },
    "id": "fu7A3y6mrYL4",
    "outputId": "c74f3c51-2a74-4c96-8a1b-71b8ab673909"
   },
   "outputs": [
    {
     "data": {
      "text/plain": [
       "((48000, 28, 28, 1), (48000,))"
      ]
     },
     "execution_count": 20,
     "metadata": {},
     "output_type": "execute_result"
    }
   ],
   "source": [
    "X_train.shape, y_train.shape"
   ]
  },
  {
   "cell_type": "code",
   "execution_count": 21,
   "metadata": {
    "colab": {
     "base_uri": "https://localhost:8080/"
    },
    "id": "DwyEiAnSrYdK",
    "outputId": "c5869111-ee93-40d2-feab-1eb5494cf0ce"
   },
   "outputs": [
    {
     "data": {
      "text/plain": [
       "((12000, 28, 28, 1), (12000,))"
      ]
     },
     "execution_count": 21,
     "metadata": {},
     "output_type": "execute_result"
    }
   ],
   "source": [
    "X_val.shape, y_val.shape"
   ]
  },
  {
   "cell_type": "markdown",
   "metadata": {
    "id": "-FMqMoJ8tZ-T"
   },
   "source": [
    "## Model building of CNN(Convolutional Neural Network)"
   ]
  },
  {
   "cell_type": "code",
   "execution_count": 22,
   "metadata": {
    "id": "eRsK1V0YtOoQ"
   },
   "outputs": [],
   "source": [
    "model = keras.models.Sequential([\n",
    "                         keras.layers.Conv2D(filters=32, kernel_size=3, strides=(1,1), padding='valid',activation= 'relu', input_shape=[28,28,1]),\n",
    "                         keras.layers.MaxPooling2D(pool_size=(2,2)),\n",
    "                         keras.layers.Flatten(),\n",
    "                         keras.layers.Dense(units=128, activation='relu'),\n",
    "                         keras.layers.Dense(units=10, activation='softmax')\n",
    "])"
   ]
  },
  {
   "cell_type": "code",
   "execution_count": 23,
   "metadata": {
    "colab": {
     "base_uri": "https://localhost:8080/"
    },
    "id": "3fGkjmvPtO2F",
    "outputId": "03d68602-12c1-4b76-d125-01e8ddc7de65"
   },
   "outputs": [
    {
     "name": "stdout",
     "output_type": "stream",
     "text": [
      "Model: \"sequential\"\n",
      "_________________________________________________________________\n",
      " Layer (type)                Output Shape              Param #   \n",
      "=================================================================\n",
      " conv2d (Conv2D)             (None, 26, 26, 32)        320       \n",
      "                                                                 \n",
      " max_pooling2d (MaxPooling2D  (None, 13, 13, 32)       0         \n",
      " )                                                               \n",
      "                                                                 \n",
      " flatten (Flatten)           (None, 5408)              0         \n",
      "                                                                 \n",
      " dense (Dense)               (None, 128)               692352    \n",
      "                                                                 \n",
      " dense_1 (Dense)             (None, 10)                1290      \n",
      "                                                                 \n",
      "=================================================================\n",
      "Total params: 693,962\n",
      "Trainable params: 693,962\n",
      "Non-trainable params: 0\n",
      "_________________________________________________________________\n"
     ]
    }
   ],
   "source": [
    "model.summary()"
   ]
  },
  {
   "cell_type": "markdown",
   "metadata": {},
   "source": [
    "## Compile the model"
   ]
  },
  {
   "cell_type": "code",
   "execution_count": 24,
   "metadata": {
    "id": "GMbjvtiEtPEP"
   },
   "outputs": [],
   "source": [
    "model.compile(optimizer='adam', loss= 'sparse_categorical_crossentropy', metrics=['accuracy'])"
   ]
  },
  {
   "cell_type": "code",
   "execution_count": 25,
   "metadata": {
    "colab": {
     "base_uri": "https://localhost:8080/"
    },
    "id": "At7z_MaR1WO-",
    "outputId": "fee77062-cde6-4e0a-8820-1745a9492cc6"
   },
   "outputs": [
    {
     "name": "stdout",
     "output_type": "stream",
     "text": [
      "Epoch 1/15\n",
      "94/94 [==============================] - 13s 13ms/step - loss: 0.6307 - accuracy: 0.7855 - val_loss: 0.4245 - val_accuracy: 0.8568\n",
      "Epoch 2/15\n",
      "94/94 [==============================] - 1s 9ms/step - loss: 0.3798 - accuracy: 0.8679 - val_loss: 0.3639 - val_accuracy: 0.8747\n",
      "Epoch 3/15\n",
      "94/94 [==============================] - 1s 9ms/step - loss: 0.3319 - accuracy: 0.8830 - val_loss: 0.3329 - val_accuracy: 0.8853\n",
      "Epoch 4/15\n",
      "94/94 [==============================] - 1s 9ms/step - loss: 0.3029 - accuracy: 0.8930 - val_loss: 0.3153 - val_accuracy: 0.8918\n",
      "Epoch 5/15\n",
      "94/94 [==============================] - 1s 9ms/step - loss: 0.2815 - accuracy: 0.8995 - val_loss: 0.3065 - val_accuracy: 0.8930\n",
      "Epoch 6/15\n",
      "94/94 [==============================] - 1s 9ms/step - loss: 0.2655 - accuracy: 0.9056 - val_loss: 0.2927 - val_accuracy: 0.8984\n",
      "Epoch 7/15\n",
      "94/94 [==============================] - 1s 9ms/step - loss: 0.2485 - accuracy: 0.9118 - val_loss: 0.2857 - val_accuracy: 0.9021\n",
      "Epoch 8/15\n",
      "94/94 [==============================] - 1s 9ms/step - loss: 0.2354 - accuracy: 0.9173 - val_loss: 0.2946 - val_accuracy: 0.8970\n",
      "Epoch 9/15\n",
      "94/94 [==============================] - 1s 9ms/step - loss: 0.2241 - accuracy: 0.9193 - val_loss: 0.2742 - val_accuracy: 0.9062\n",
      "Epoch 10/15\n",
      "94/94 [==============================] - 1s 9ms/step - loss: 0.2148 - accuracy: 0.9227 - val_loss: 0.2741 - val_accuracy: 0.9053\n",
      "Epoch 11/15\n",
      "94/94 [==============================] - 1s 9ms/step - loss: 0.2067 - accuracy: 0.9252 - val_loss: 0.2748 - val_accuracy: 0.9056\n",
      "Epoch 12/15\n",
      "94/94 [==============================] - 1s 9ms/step - loss: 0.1994 - accuracy: 0.9283 - val_loss: 0.2754 - val_accuracy: 0.9073\n",
      "Epoch 13/15\n",
      "94/94 [==============================] - 1s 9ms/step - loss: 0.1858 - accuracy: 0.9338 - val_loss: 0.2610 - val_accuracy: 0.9107\n",
      "Epoch 14/15\n",
      "94/94 [==============================] - 1s 9ms/step - loss: 0.1839 - accuracy: 0.9341 - val_loss: 0.2719 - val_accuracy: 0.9066\n",
      "Epoch 15/15\n",
      "94/94 [==============================] - 1s 9ms/step - loss: 0.1733 - accuracy: 0.9376 - val_loss: 0.2632 - val_accuracy: 0.9114\n"
     ]
    },
    {
     "data": {
      "text/plain": [
       "<keras.callbacks.History at 0x7fdc006ae6d0>"
      ]
     },
     "execution_count": 25,
     "metadata": {},
     "output_type": "execute_result"
    }
   ],
   "source": [
    "model.fit(X_train, y_train, epochs=15, batch_size=512, verbose=1, validation_data=(X_val, y_val))"
   ]
  },
  {
   "cell_type": "markdown",
   "metadata": {
    "id": "Xfq91xrKKRvA"
   },
   "source": [
    "## Accuracy score of the model on train data"
   ]
  },
  {
   "cell_type": "code",
   "execution_count": 26,
   "metadata": {
    "colab": {
     "base_uri": "https://localhost:8080/"
    },
    "id": "WsHVWcgY2p7d",
    "outputId": "a2feb26f-efcb-45fd-aa40-330059013c9d"
   },
   "outputs": [
    {
     "name": "stdout",
     "output_type": "stream",
     "text": [
      "1500/1500 [==============================] - 4s 3ms/step - loss: 0.1609 - accuracy: 0.9427\n"
     ]
    },
    {
     "data": {
      "text/plain": [
       "[0.16087479889392853, 0.9427499771118164]"
      ]
     },
     "execution_count": 26,
     "metadata": {},
     "output_type": "execute_result"
    }
   ],
   "source": [
    "model.evaluate(X_train, y_train)"
   ]
  },
  {
   "cell_type": "markdown",
   "metadata": {
    "id": "q1ajJlFAKbkL"
   },
   "source": [
    "## Test the model"
   ]
  },
  {
   "cell_type": "code",
   "execution_count": 27,
   "metadata": {
    "colab": {
     "base_uri": "https://localhost:8080/"
    },
    "id": "6XDeWY9qKeUa",
    "outputId": "80519c6d-2451-4536-9eda-30b38dfe1789"
   },
   "outputs": [
    {
     "data": {
      "text/plain": [
       "array([[1.0952075e-06, 1.7696252e-08, 1.9484777e-07, 8.1408039e-08,\n",
       "        1.0250815e-06, 1.6789354e-03, 4.2967890e-06, 2.7521779e-03,\n",
       "        1.0876052e-04, 9.9545336e-01]], dtype=float32)"
      ]
     },
     "execution_count": 27,
     "metadata": {},
     "output_type": "execute_result"
    }
   ],
   "source": [
    "model.predict(np.expand_dims(X_test[0], axis=0).round(2))"
   ]
  },
  {
   "cell_type": "code",
   "execution_count": 28,
   "metadata": {
    "colab": {
     "base_uri": "https://localhost:8080/"
    },
    "id": "2gsoQ5VnKmcO",
    "outputId": "3f351bae-9030-46e7-84f0-5fde21be62b1"
   },
   "outputs": [
    {
     "data": {
      "text/plain": [
       "9"
      ]
     },
     "execution_count": 28,
     "metadata": {},
     "output_type": "execute_result"
    }
   ],
   "source": [
    "np.argmax(model.predict(np.expand_dims(X_test[0], axis=0).round(2)))"
   ]
  },
  {
   "cell_type": "code",
   "execution_count": 29,
   "metadata": {
    "colab": {
     "base_uri": "https://localhost:8080/"
    },
    "id": "FWLZWkj7LEDc",
    "outputId": "628c4117-1673-46cd-df45-b2e84d52d252"
   },
   "outputs": [
    {
     "data": {
      "text/plain": [
       "9"
      ]
     },
     "execution_count": 29,
     "metadata": {},
     "output_type": "execute_result"
    }
   ],
   "source": [
    "y_test[0]"
   ]
  },
  {
   "cell_type": "code",
   "execution_count": 30,
   "metadata": {
    "colab": {
     "base_uri": "https://localhost:8080/"
    },
    "id": "tUO0gNGTLJ38",
    "outputId": "91ec824b-0a54-4100-9d47-4e68e6621109"
   },
   "outputs": [
    {
     "data": {
      "text/plain": [
       "array([[5.9645110e-05, 8.6786886e-06, 8.6836104e-04, 1.0927666e-03,\n",
       "        3.2418232e-06, 2.1362996e-01, 3.1011202e-04, 7.0236191e-02,\n",
       "        7.1370202e-01, 8.8989524e-05]], dtype=float32)"
      ]
     },
     "execution_count": 30,
     "metadata": {},
     "output_type": "execute_result"
    }
   ],
   "source": [
    "model.predict(np.expand_dims(X_test[12], axis=0).round(2))"
   ]
  },
  {
   "cell_type": "code",
   "execution_count": 31,
   "metadata": {
    "colab": {
     "base_uri": "https://localhost:8080/"
    },
    "id": "uuHXaVN_LUlg",
    "outputId": "7d1dd74d-e410-4d47-a2be-e351d4143f69"
   },
   "outputs": [
    {
     "data": {
      "text/plain": [
       "8"
      ]
     },
     "execution_count": 31,
     "metadata": {},
     "output_type": "execute_result"
    }
   ],
   "source": [
    "np.argmax(model.predict(np.expand_dims(X_test[12], axis=0).round(2)))"
   ]
  },
  {
   "cell_type": "code",
   "execution_count": 32,
   "metadata": {
    "colab": {
     "base_uri": "https://localhost:8080/"
    },
    "id": "bVqH-gVgLYrt",
    "outputId": "6f2a1b25-fe3a-48b8-aa46-76ef10560ad9"
   },
   "outputs": [
    {
     "data": {
      "text/plain": [
       "7"
      ]
     },
     "execution_count": 32,
     "metadata": {},
     "output_type": "execute_result"
    }
   ],
   "source": [
    "y_test[12]"
   ]
  },
  {
   "cell_type": "code",
   "execution_count": 33,
   "metadata": {
    "colab": {
     "base_uri": "https://localhost:8080/"
    },
    "id": "tfkXmaKJLc_H",
    "outputId": "eadb307a-b464-4d97-9534-117422f097e7"
   },
   "outputs": [
    {
     "data": {
      "text/plain": [
       "array([[4.5793655e-05, 8.1195537e-07, 2.5317653e-03, 9.3841396e-07,\n",
       "        9.8328638e-01, 7.3869856e-08, 1.4133400e-02, 1.8546080e-09,\n",
       "        6.4729790e-07, 5.2215361e-09]], dtype=float32)"
      ]
     },
     "execution_count": 33,
     "metadata": {},
     "output_type": "execute_result"
    }
   ],
   "source": [
    "model.predict(np.expand_dims(X_test[10], axis=0).round(2))"
   ]
  },
  {
   "cell_type": "code",
   "execution_count": 34,
   "metadata": {
    "colab": {
     "base_uri": "https://localhost:8080/"
    },
    "id": "qSv4Z4ALLk_K",
    "outputId": "19a2c823-23cf-4a37-e066-3a6193135ab3"
   },
   "outputs": [
    {
     "data": {
      "text/plain": [
       "4"
      ]
     },
     "execution_count": 34,
     "metadata": {},
     "output_type": "execute_result"
    }
   ],
   "source": [
    "np.argmax(model.predict(np.expand_dims(X_test[10], axis=0).round(2)))"
   ]
  },
  {
   "cell_type": "code",
   "execution_count": 35,
   "metadata": {
    "colab": {
     "base_uri": "https://localhost:8080/"
    },
    "id": "8EFKBG3TLqSG",
    "outputId": "d09f4693-06da-4ecf-93f2-d0ec74b1aad8"
   },
   "outputs": [
    {
     "data": {
      "text/plain": [
       "4"
      ]
     },
     "execution_count": 35,
     "metadata": {},
     "output_type": "execute_result"
    }
   ],
   "source": [
    "y_test[10]"
   ]
  },
  {
   "cell_type": "code",
   "execution_count": 36,
   "metadata": {
    "colab": {
     "base_uri": "https://localhost:8080/"
    },
    "id": "hP72X6kwLs5A",
    "outputId": "25be7146-243c-4c7d-ce65-4d699316ac11"
   },
   "outputs": [
    {
     "data": {
      "text/plain": [
       "array([[1.3517326e-05, 6.7502048e-09, 1.2958565e-03, 1.1659545e-05,\n",
       "        1.1686223e-02, 1.4068299e-10, 9.8699051e-01, 1.0847603e-11,\n",
       "        2.2905269e-06, 5.2257684e-11]], dtype=float32)"
      ]
     },
     "execution_count": 36,
     "metadata": {},
     "output_type": "execute_result"
    }
   ],
   "source": [
    "model.predict(np.expand_dims(X_test[9000], axis=0).round(2))"
   ]
  },
  {
   "cell_type": "code",
   "execution_count": 37,
   "metadata": {
    "colab": {
     "base_uri": "https://localhost:8080/"
    },
    "id": "cS9w53QVL1HX",
    "outputId": "7604cfc8-28a6-47cc-d5f7-020f236c431a"
   },
   "outputs": [
    {
     "data": {
      "text/plain": [
       "6"
      ]
     },
     "execution_count": 37,
     "metadata": {},
     "output_type": "execute_result"
    }
   ],
   "source": [
    "np.argmax(model.predict(np.expand_dims(X_test[9000], axis=0).round(2)))"
   ]
  },
  {
   "cell_type": "code",
   "execution_count": 38,
   "metadata": {
    "colab": {
     "base_uri": "https://localhost:8080/"
    },
    "id": "x4itrJ4eL-mV",
    "outputId": "7f2fb4eb-83a2-4f3b-e93f-607de4146aeb"
   },
   "outputs": [
    {
     "data": {
      "text/plain": [
       "6"
      ]
     },
     "execution_count": 38,
     "metadata": {},
     "output_type": "execute_result"
    }
   ],
   "source": [
    "y_test[9000]"
   ]
  },
  {
   "cell_type": "code",
   "execution_count": 39,
   "metadata": {
    "colab": {
     "base_uri": "https://localhost:8080/"
    },
    "id": "lPxU2MwJMB4F",
    "outputId": "6d8b59ab-f4bc-4afe-d7b5-134fa2b86977"
   },
   "outputs": [
    {
     "data": {
      "text/plain": [
       "array([[0.  , 0.  , 0.  , ..., 0.  , 0.  , 1.  ],\n",
       "       [0.  , 0.  , 1.  , ..., 0.  , 0.  , 0.  ],\n",
       "       [0.  , 1.  , 0.  , ..., 0.  , 0.  , 0.  ],\n",
       "       ...,\n",
       "       [0.  , 0.  , 0.  , ..., 0.  , 1.  , 0.  ],\n",
       "       [0.  , 1.  , 0.  , ..., 0.  , 0.  , 0.  ],\n",
       "       [0.  , 0.  , 0.  , ..., 0.05, 0.05, 0.  ]], dtype=float32)"
      ]
     },
     "execution_count": 39,
     "metadata": {},
     "output_type": "execute_result"
    }
   ],
   "source": [
    "y_pred = model.predict(X_test).round(2)\n",
    "y_pred"
   ]
  },
  {
   "cell_type": "markdown",
   "metadata": {
    "id": "f0oFLwj8Mx1-"
   },
   "source": [
    "## Check prediction of the model on test data"
   ]
  },
  {
   "cell_type": "code",
   "execution_count": 40,
   "metadata": {
    "colab": {
     "base_uri": "https://localhost:8080/"
    },
    "id": "kHkLsGpRM2nM",
    "outputId": "f307aab5-41dc-4f37-8a84-1157265fbab7"
   },
   "outputs": [
    {
     "name": "stdout",
     "output_type": "stream",
     "text": [
      "313/313 [==============================] - 1s 3ms/step - loss: 0.2673 - accuracy: 0.9070\n"
     ]
    },
    {
     "data": {
      "text/plain": [
       "[0.26733317971229553, 0.9070000052452087]"
      ]
     },
     "execution_count": 40,
     "metadata": {},
     "output_type": "execute_result"
    }
   ],
   "source": [
    "model.evaluate(X_test, y_test)"
   ]
  },
  {
   "cell_type": "markdown",
   "metadata": {},
   "source": [
    "## After testing the model check prediction on show all the images and its labels"
   ]
  },
  {
   "cell_type": "code",
   "execution_count": 41,
   "metadata": {
    "colab": {
     "base_uri": "https://localhost:8080/",
     "height": 1000
    },
    "id": "WljNyJYeM9Cg",
    "outputId": "bdd53e05-5b2e-4436-f9db-7bffca562b3b"
   },
   "outputs": [
    {
     "data": {
      "image/png": "[encoded data removed]",
      "text/plain": [
       "<Figure size 1152x2160 with 60 Axes>"
      ]
     },
     "metadata": {
      "needs_background": "light"
     },
     "output_type": "display_data"
    }
   ],
   "source": [
    "plt.figure(figsize=(16,30))\n",
    " \n",
    "j=1\n",
    "for i in np.random.randint(0, 1000,60):\n",
    "  plt.subplot(10,6, j); j+=1\n",
    "  plt.imshow(X_test[i].reshape(28,28), cmap = 'Blues')\n",
    "  plt.title('Actual = {} / {} \\nPredicted = {} / {}'.format(class_labels[y_test[i]], y_test[i], class_labels[np.argmax(y_pred[i])],np.argmax(y_pred[i])))\n",
    "  plt.axis('off')"
   ]
  },
  {
   "cell_type": "markdown",
   "metadata": {},
   "source": [
    "## Confusion metrics of the model with heatmap"
   ]
  },
  {
   "cell_type": "code",
   "execution_count": 42,
   "metadata": {
    "id": "MLZnIJ2SPDbV"
   },
   "outputs": [],
   "source": [
    "from sklearn.metrics import confusion_matrix"
   ]
  },
  {
   "cell_type": "code",
   "execution_count": 43,
   "metadata": {
    "colab": {
     "base_uri": "https://localhost:8080/",
     "height": 337
    },
    "id": "wi2t0W0ySkur",
    "outputId": "d6611255-852c-4ca3-f98b-29024a106bbb"
   },
   "outputs": [
    {
     "data": {
      "text/plain": [
       "<matplotlib.axes._subplots.AxesSubplot at 0x7fdc005db410>"
      ]
     },
     "execution_count": 43,
     "metadata": {},
     "output_type": "execute_result"
    },
    {
     "data": {
      "image/png": "[encoded data removed]",
      "text/plain": [
       "<Figure size 1080x360 with 2 Axes>"
      ]
     },
     "metadata": {
      "needs_background": "light"
     },
     "output_type": "display_data"
    }
   ],
   "source": [
    "plt.figure(figsize=(15, 5))\n",
    "y_pred_labels = [np.argmax(label) for label in y_pred]\n",
    "cm = confusion_matrix(y_test, y_pred_labels)\n",
    "\n",
    "# Show cm on heat map\n",
    "sns.heatmap(cm, annot=True, fmt='d',xticklabels=class_labels, yticklabels=class_labels)"
   ]
  },
  {
   "cell_type": "markdown",
   "metadata": {},
   "source": [
    "## Classification report of the model"
   ]
  },
  {
   "cell_type": "code",
   "execution_count": 44,
   "metadata": {
    "id": "9d29trjDTlNA"
   },
   "outputs": [],
   "source": [
    "from sklearn.metrics import classification_report"
   ]
  },
  {
   "cell_type": "code",
   "execution_count": 45,
   "metadata": {
    "id": "gxR73FnSUm-1"
   },
   "outputs": [],
   "source": [
    "cr = classification_report(y_test, y_pred_labels, target_names=class_labels)"
   ]
  },
  {
   "cell_type": "code",
   "execution_count": 46,
   "metadata": {
    "colab": {
     "base_uri": "https://localhost:8080/"
    },
    "id": "FnXzDwmxU4IF",
    "outputId": "093e911b-936e-4026-8268-5ca9dcdf639c"
   },
   "outputs": [
    {
     "name": "stdout",
     "output_type": "stream",
     "text": [
      "              precision    recall  f1-score   support\n",
      "\n",
      " T-shirt/top       0.82      0.91      0.86      1000\n",
      "     Trouser       0.99      0.97      0.98      1000\n",
      "    Pullover       0.88      0.81      0.85      1000\n",
      "       Dress       0.90      0.92      0.91      1000\n",
      "        Coat       0.84      0.89      0.86      1000\n",
      "      Sandal       0.97      0.98      0.98      1000\n",
      "       Shirt       0.77      0.69      0.73      1000\n",
      "     Sneaker       0.95      0.96      0.96      1000\n",
      "         Bag       0.97      0.98      0.97      1000\n",
      "  Ankle boot       0.97      0.96      0.97      1000\n",
      "\n",
      "    accuracy                           0.91     10000\n",
      "   macro avg       0.91      0.91      0.91     10000\n",
      "weighted avg       0.91      0.91      0.91     10000\n",
      "\n"
     ]
    }
   ],
   "source": [
    "print(cr)"
   ]
  },
  {
   "cell_type": "markdown",
   "metadata": {
    "id": "ggghAx7wWB7z"
   },
   "source": [
    "# Save model"
   ]
  },
  {
   "cell_type": "code",
   "execution_count": 47,
   "metadata": {
    "id": "AbvX6ZAfWEkL"
   },
   "outputs": [],
   "source": [
    "model.save('Cnn_fashion_classification_project.h5')"
   ]
  },
  {
   "cell_type": "code",
   "execution_count": 48,
   "metadata": {
    "id": "ZoJg5VM3WvFx"
   },
   "outputs": [],
   "source": [
    "url='/content/drive/MyDrive/Colab Notebooks_1/Cnn_fashion_classification_project.h5'"
   ]
  },
  {
   "cell_type": "code",
   "execution_count": 49,
   "metadata": {
    "id": "AY-Ize5MYKlf"
   },
   "outputs": [],
   "source": [
    "model.save(url)"
   ]
  },
  {
   "cell_type": "markdown",
   "metadata": {},
   "source": [
    "## Model deployment on system or google drive"
   ]
  },
  {
   "cell_type": "code",
   "execution_count": 50,
   "metadata": {
    "id": "rr1DYUYQYR_p"
   },
   "outputs": [],
   "source": [
    "model_deploy = keras.models.load_model('/content/drive/MyDrive/Colab Notebooks_1/Cnn_fashion_classification_project.h5')"
   ]
  },
  {
   "cell_type": "markdown",
   "metadata": {},
   "source": [
    "## Test model after deployment"
   ]
  },
  {
   "cell_type": "code",
   "execution_count": 51,
   "metadata": {
    "colab": {
     "base_uri": "https://localhost:8080/"
    },
    "id": "QCJxGPTmZgy6",
    "outputId": "b02270c3-ba8f-4bb4-f425-a7a809acf899"
   },
   "outputs": [
    {
     "data": {
      "text/plain": [
       "array([[0.  , 0.  , 0.  , ..., 0.  , 0.  , 1.  ],\n",
       "       [0.  , 0.  , 1.  , ..., 0.  , 0.  , 0.  ],\n",
       "       [0.  , 1.  , 0.  , ..., 0.  , 0.  , 0.  ],\n",
       "       ...,\n",
       "       [0.  , 0.  , 0.  , ..., 0.  , 1.  , 0.  ],\n",
       "       [0.  , 1.  , 0.  , ..., 0.  , 0.  , 0.  ],\n",
       "       [0.  , 0.  , 0.  , ..., 0.05, 0.05, 0.  ]], dtype=float32)"
      ]
     },
     "execution_count": 51,
     "metadata": {},
     "output_type": "execute_result"
    }
   ],
   "source": [
    "model_deploy.predict(X_test).round(2)"
   ]
  },
  {
   "cell_type": "code",
   "execution_count": 52,
   "metadata": {
    "colab": {
     "base_uri": "https://localhost:8080/"
    },
    "id": "vcThLc1LZp4R",
    "outputId": "44f28b08-1016-4ccc-d329-1098dcf25615"
   },
   "outputs": [
    {
     "data": {
      "text/plain": [
       "9"
      ]
     },
     "execution_count": 52,
     "metadata": {},
     "output_type": "execute_result"
    }
   ],
   "source": [
    "np.argmax(model_deploy.predict(np.expand_dims(X_test[0], axis=0).round(2)))"
   ]
  },
  {
   "cell_type": "code",
   "execution_count": 53,
   "metadata": {
    "colab": {
     "base_uri": "https://localhost:8080/"
    },
    "id": "iFrHDvcaZ1Uf",
    "outputId": "0b42e93c-c4b0-43cb-f162-187e404c03f4"
   },
   "outputs": [
    {
     "data": {
      "text/plain": [
       "9"
      ]
     },
     "execution_count": 53,
     "metadata": {},
     "output_type": "execute_result"
    }
   ],
   "source": [
    "y_test[0]"
   ]
  },
  {
   "cell_type": "code",
   "execution_count": 54,
   "metadata": {
    "colab": {
     "base_uri": "https://localhost:8080/"
    },
    "id": "T9k_heWhaYaw",
    "outputId": "61a5f524-16f9-47ff-a330-2fd0ef979dea"
   },
   "outputs": [
    {
     "data": {
      "text/plain": [
       "4"
      ]
     },
     "execution_count": 54,
     "metadata": {},
     "output_type": "execute_result"
    }
   ],
   "source": [
    "np.argmax(model_deploy.predict(np.expand_dims(X_test[10], axis=0).round(2)))"
   ]
  },
  {
   "cell_type": "code",
   "execution_count": 55,
   "metadata": {
    "colab": {
     "base_uri": "https://localhost:8080/"
    },
    "id": "UjSsh9olacu4",
    "outputId": "85a7f82e-efde-4cf4-aa3f-168bac9937ee"
   },
   "outputs": [
    {
     "data": {
      "text/plain": [
       "4"
      ]
     },
     "execution_count": 55,
     "metadata": {},
     "output_type": "execute_result"
    }
   ],
   "source": [
    "y_test[10]"
   ]
  },
  {
   "cell_type": "code",
   "execution_count": 56,
   "metadata": {
    "colab": {
     "base_uri": "https://localhost:8080/"
    },
    "id": "r3LHWyNlagGA",
    "outputId": "8cc4042d-cd7f-47a4-98f8-29051c954129"
   },
   "outputs": [
    {
     "data": {
      "text/plain": [
       "3"
      ]
     },
     "execution_count": 56,
     "metadata": {},
     "output_type": "execute_result"
    }
   ],
   "source": [
    "np.argmax(model_deploy.predict(np.expand_dims(X_test[100], axis=0).round(2)))"
   ]
  },
  {
   "cell_type": "code",
   "execution_count": 57,
   "metadata": {
    "colab": {
     "base_uri": "https://localhost:8080/"
    },
    "id": "BIX0bbDjhojr",
    "outputId": "b6b390f6-7ecc-4a32-8749-8a540abfea4b"
   },
   "outputs": [
    {
     "data": {
      "text/plain": [
       "3"
      ]
     },
     "execution_count": 57,
     "metadata": {},
     "output_type": "execute_result"
    }
   ],
   "source": [
    "y_test[100]"
   ]
  },
  {
   "cell_type": "code",
   "execution_count": null,
   "metadata": {
    "id": "4q8sWQ_rhrxf"
   },
   "outputs": [],
   "source": []
  }
 ],
 "metadata": {
  "accelerator": "GPU",
  "colab": {
   "collapsed_sections": [],
   "name": "Fashion_classification_mnist.ipynb",
   "provenance": []
  },
  "kernelspec": {
   "display_name": "Python 3",
   "language": "python",
   "name": "python3"
  },
  "language_info": {
   "codemirror_mode": {
    "name": "ipython",
    "version": 3
   },
   "file_extension": ".py",
   "mimetype": "text/x-python",
   "name": "python",
   "nbconvert_exporter": "python",
   "pygments_lexer": "ipython3",
   "version": "3.8.8"
  }
 },
 "nbformat": 4,
 "nbformat_minor": 1
}
